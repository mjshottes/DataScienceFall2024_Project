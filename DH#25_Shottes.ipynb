{
 "cells": [
  {
   "cell_type": "markdown",
   "id": "103ff4ae-cccf-4643-a2aa-b337f68dc5a9",
   "metadata": {},
   "source": [
    "1) name one purpose for github\n",
    "      - github allows you to access code written by others making it easier to write code together"
   ]
  },
  {
   "cell_type": "markdown",
   "id": "e50576a3-78e8-4603-a725-f8653fbe106b",
   "metadata": {},
   "source": [
    "2) describe what is version control in your own words and how it could help you in your project\n",
    "   - Version control is a way to create branches to edit your code from the main code branch without changing the original version until it is merged. It can help the project by allowing you to alter your original code; a way to improve/edit your code, but also keep the main code to see what you have done already."
   ]
  },
  {
   "cell_type": "markdown",
   "id": "7959eb97-da28-41c7-9b96-0cd7431d1e36",
   "metadata": {},
   "source": [
    "3) explain how in a group project (which we are not doing) github could help manage collaboration\n",
    "   - github would allow you to make a pull request which lets you make an edit, then someone will review that edit, the pull request can also be merged in their own respository. The changes made in the pull request are shown in different colors like when you are editing a word doc, the edited changes are tracked for others to see and follow."
   ]
  },
  {
   "cell_type": "code",
   "execution_count": null,
   "id": "ae1460c7-518d-4852-b1f9-c5faaac930ac",
   "metadata": {},
   "outputs": [],
   "source": []
  }
 ],
 "metadata": {
  "kernelspec": {
   "display_name": "Python 3 (ipykernel)",
   "language": "python",
   "name": "python3"
  },
  "language_info": {
   "codemirror_mode": {
    "name": "ipython",
    "version": 3
   },
   "file_extension": ".py",
   "mimetype": "text/x-python",
   "name": "python",
   "nbconvert_exporter": "python",
   "pygments_lexer": "ipython3",
   "version": "3.12.5"
  }
 },
 "nbformat": 4,
 "nbformat_minor": 5
}
